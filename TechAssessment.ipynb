{
 "cells": [
  {
   "cell_type": "code",
   "execution_count": 5,
   "metadata": {},
   "outputs": [
    {
     "name": "stdout",
     "output_type": "stream",
     "text": [
      "   ACCT_NUM  PRODUCT     MONTH  REVENUE\n",
      "0   9994523      VEG   January     50.0\n",
      "1   9994523  HOT DOG  February     40.0\n",
      "2   9994523      VEG  February     55.0\n",
      "3   9994523   COOKIE  February     10.0\n",
      "4   9996984      VEG     March     60.0\n",
      "5   9996427      NaN   January     15.0\n",
      "6   9993644  HOT DOG  February     35.0\n",
      "7   9993644    FRIES  February      2.0\n",
      "8   9993644  HOT DOG     March     40.0\n"
     ]
    }
   ],
   "source": [
    "import numpy as np\n",
    "import pandas as pd\n",
    "\n",
    "data = pd.read_csv('FINANCE.csv')\n",
    "print(data)\n"
   ]
  },
  {
   "cell_type": "code",
   "execution_count": 35,
   "metadata": {},
   "outputs": [
    {
     "name": "stdout",
     "output_type": "stream",
     "text": [
      "   ACCT_NUM  PRODUCT      PROD2     MONTH  REVENUE\n",
      "0   9994523      VEG  Vegetable   January     50.0\n",
      "1   9994523  HOT DOG    Hot Dog  February     40.0\n",
      "2   9994523      VEG  Vegetable  February     55.0\n",
      "3   9994523   COOKIE     Cookie  February     10.0\n",
      "4   9996984      VEG  Vegetable     March     60.0\n",
      "5   9996427      NaN      Other   January     15.0\n",
      "6   9993644  HOT DOG    Hot Dog  February     35.0\n",
      "7   9993644    FRIES      Other  February      2.0\n",
      "8   9993644  HOT DOG    Hot Dog     March     40.0\n"
     ]
    }
   ],
   "source": [
    "#data.insert(loc = 2, column = 'PROD2', value = '')\n",
    "conditions = [\n",
    "    \n",
    "    (data['PRODUCT']=='VEG'),\n",
    "    (data['PRODUCT']=='HOT DOG'),\n",
    "    (data['PRODUCT']== 'COOKIE')\n",
    "\n",
    "    \n",
    "]\n",
    "Values = ['Vegetable','Hot Dog','Cookie']\n",
    "data['PROD2']=np.select(conditions, Values)\n",
    "data['PROD2']=data['PROD2'].replace('0', 'Other')\n",
    "\n",
    "print(data)"
   ]
  },
  {
   "cell_type": "code",
   "execution_count": 36,
   "metadata": {},
   "outputs": [
    {
     "name": "stdout",
     "output_type": "stream",
     "text": [
      "   ACCT_NUM  PRODUCT     MONTH  REVENUE\n",
      "0   9994523      VEG   January     50.0\n",
      "1   9994523  HOT DOG  February     40.0\n",
      "2   9994523      VEG  February     55.0\n",
      "3   9994523   COOKIE  February     10.0\n",
      "4   9996984      VEG     March     60.0\n",
      "5   9996427      NaN   January     15.0\n",
      "6   9993644  HOT DOG  February     35.0\n",
      "7   9993644    FRIES  February      2.0\n",
      "8   9993644  HOT DOG     March     40.0\n"
     ]
    }
   ],
   "source": [
    "data = pd.read_csv('FINANCE.csv')\n",
    "print(data)"
   ]
  },
  {
   "cell_type": "code",
   "execution_count": 68,
   "metadata": {},
   "outputs": [
    {
     "name": "stdout",
     "output_type": "stream",
     "text": [
      "   ACCT_NUM  PRODUCT     MONTH  REVENUE\n",
      "1   9994523  HOT DOG  February     40.0\n",
      "2   9994523      VEG  February     55.0\n",
      "3   9994523   COOKIE  February     10.0\n"
     ]
    }
   ],
   "source": [
    "Feb = data.loc[data['MONTH']=='February']\n",
    "acct = Feb.loc[data['ACCT_NUM']== 9994523]\n",
    "\n",
    "print(acct)\n"
   ]
  },
  {
   "cell_type": "code",
   "execution_count": 70,
   "metadata": {},
   "outputs": [
    {
     "name": "stdout",
     "output_type": "stream",
     "text": [
      "   ACCT_NUM  PRODUCT     MONTH  REVENUE\n",
      "0   9994523      VEG   January     50.0\n",
      "1   9994523  HOT DOG  February     40.0\n",
      "2   9994523      VEG  February     55.0\n",
      "3   9994523   COOKIE  February     10.0\n",
      "4   9996984      VEG     March     60.0\n",
      "5   9996427      NaN   January     15.0\n",
      "6   9993644  HOT DOG  February     35.0\n",
      "7   9993644    FRIES  February      2.0\n",
      "8   9993644  HOT DOG     March     40.0\n",
      "   ACCT_NUM  GENDER\n",
      "0   9994523    MALE\n",
      "1   9996984  FEMALE\n",
      "2   9996427  FEMALE\n",
      "3   9993644    MALE\n",
      "4   9995725    MALE\n",
      "5   9993245  FEMALE\n",
      "6   9993727  FEMALE\n"
     ]
    }
   ],
   "source": [
    "data2 = pd.read_csv('ACCOUNT_GENDER.csv')\n",
    "data = pd.read_csv('FINANCE.csv')\n",
    "print(data)\n",
    "print(data2)"
   ]
  },
  {
   "cell_type": "code",
   "execution_count": 111,
   "metadata": {},
   "outputs": [
    {
     "ename": "KeyError",
     "evalue": "'GENDER'",
     "output_type": "error",
     "traceback": [
      "\u001b[0;31m---------------------------------------------------------------------------\u001b[0m",
      "\u001b[0;31mKeyError\u001b[0m                                  Traceback (most recent call last)",
      "\u001b[0;32m/opt/anaconda3/lib/python3.8/site-packages/pandas/core/indexes/base.py\u001b[0m in \u001b[0;36mget_loc\u001b[0;34m(self, key, method, tolerance)\u001b[0m\n\u001b[1;32m   2894\u001b[0m             \u001b[0;32mtry\u001b[0m\u001b[0;34m:\u001b[0m\u001b[0;34m\u001b[0m\u001b[0;34m\u001b[0m\u001b[0m\n\u001b[0;32m-> 2895\u001b[0;31m                 \u001b[0;32mreturn\u001b[0m \u001b[0mself\u001b[0m\u001b[0;34m.\u001b[0m\u001b[0m_engine\u001b[0m\u001b[0;34m.\u001b[0m\u001b[0mget_loc\u001b[0m\u001b[0;34m(\u001b[0m\u001b[0mcasted_key\u001b[0m\u001b[0;34m)\u001b[0m\u001b[0;34m\u001b[0m\u001b[0;34m\u001b[0m\u001b[0m\n\u001b[0m\u001b[1;32m   2896\u001b[0m             \u001b[0;32mexcept\u001b[0m \u001b[0mKeyError\u001b[0m \u001b[0;32mas\u001b[0m \u001b[0merr\u001b[0m\u001b[0;34m:\u001b[0m\u001b[0;34m\u001b[0m\u001b[0;34m\u001b[0m\u001b[0m\n",
      "\u001b[0;32mpandas/_libs/index.pyx\u001b[0m in \u001b[0;36mpandas._libs.index.IndexEngine.get_loc\u001b[0;34m()\u001b[0m\n",
      "\u001b[0;32mpandas/_libs/index.pyx\u001b[0m in \u001b[0;36mpandas._libs.index.IndexEngine.get_loc\u001b[0;34m()\u001b[0m\n",
      "\u001b[0;32mpandas/_libs/hashtable_class_helper.pxi\u001b[0m in \u001b[0;36mpandas._libs.hashtable.PyObjectHashTable.get_item\u001b[0;34m()\u001b[0m\n",
      "\u001b[0;32mpandas/_libs/hashtable_class_helper.pxi\u001b[0m in \u001b[0;36mpandas._libs.hashtable.PyObjectHashTable.get_item\u001b[0;34m()\u001b[0m\n",
      "\u001b[0;31mKeyError\u001b[0m: 'GENDER'",
      "\nThe above exception was the direct cause of the following exception:\n",
      "\u001b[0;31mKeyError\u001b[0m                                  Traceback (most recent call last)",
      "\u001b[0;32m<ipython-input-111-627738a27016>\u001b[0m in \u001b[0;36m<module>\u001b[0;34m\u001b[0m\n\u001b[1;32m      1\u001b[0m \u001b[0mdata3\u001b[0m \u001b[0;34m=\u001b[0m \u001b[0mpd\u001b[0m\u001b[0;34m.\u001b[0m\u001b[0mmerge\u001b[0m\u001b[0;34m(\u001b[0m\u001b[0mdata2\u001b[0m\u001b[0;34m,\u001b[0m \u001b[0mdata\u001b[0m\u001b[0;34m,\u001b[0m \u001b[0mon\u001b[0m \u001b[0;34m=\u001b[0m\u001b[0;34m[\u001b[0m\u001b[0;34m'ACCT_NUM'\u001b[0m\u001b[0;34m]\u001b[0m\u001b[0;34m)\u001b[0m\u001b[0;34m\u001b[0m\u001b[0;34m\u001b[0m\u001b[0m\n\u001b[0;32m----> 2\u001b[0;31m \u001b[0mcolumn\u001b[0m \u001b[0;34m=\u001b[0m \u001b[0mdata3\u001b[0m\u001b[0;34m.\u001b[0m\u001b[0mpop\u001b[0m\u001b[0;34m(\u001b[0m\u001b[0;34m'GENDER'\u001b[0m\u001b[0;34m)\u001b[0m\u001b[0;34m\u001b[0m\u001b[0;34m\u001b[0m\u001b[0m\n\u001b[0m\u001b[1;32m      3\u001b[0m \u001b[0;34m\u001b[0m\u001b[0m\n\u001b[1;32m      4\u001b[0m \u001b[0mdata3\u001b[0m\u001b[0;34m.\u001b[0m\u001b[0minsert\u001b[0m\u001b[0;34m(\u001b[0m\u001b[0;36m2\u001b[0m\u001b[0;34m,\u001b[0m \u001b[0;34m'GENDER'\u001b[0m\u001b[0;34m,\u001b[0m \u001b[0mcolumn\u001b[0m\u001b[0;34m)\u001b[0m\u001b[0;34m\u001b[0m\u001b[0;34m\u001b[0m\u001b[0m\n\u001b[1;32m      5\u001b[0m \u001b[0;34m\u001b[0m\u001b[0m\n",
      "\u001b[0;32m/opt/anaconda3/lib/python3.8/site-packages/pandas/core/frame.py\u001b[0m in \u001b[0;36mpop\u001b[0;34m(self, item)\u001b[0m\n\u001b[1;32m   4365\u001b[0m         \u001b[0;36m3\u001b[0m  \u001b[0mmonkey\u001b[0m        \u001b[0mNaN\u001b[0m\u001b[0;34m\u001b[0m\u001b[0;34m\u001b[0m\u001b[0m\n\u001b[1;32m   4366\u001b[0m         \"\"\"\n\u001b[0;32m-> 4367\u001b[0;31m         \u001b[0;32mreturn\u001b[0m \u001b[0msuper\u001b[0m\u001b[0;34m(\u001b[0m\u001b[0;34m)\u001b[0m\u001b[0;34m.\u001b[0m\u001b[0mpop\u001b[0m\u001b[0;34m(\u001b[0m\u001b[0mitem\u001b[0m\u001b[0;34m=\u001b[0m\u001b[0mitem\u001b[0m\u001b[0;34m)\u001b[0m\u001b[0;34m\u001b[0m\u001b[0;34m\u001b[0m\u001b[0m\n\u001b[0m\u001b[1;32m   4368\u001b[0m \u001b[0;34m\u001b[0m\u001b[0m\n\u001b[1;32m   4369\u001b[0m     \u001b[0;34m@\u001b[0m\u001b[0mdoc\u001b[0m\u001b[0;34m(\u001b[0m\u001b[0mNDFrame\u001b[0m\u001b[0;34m.\u001b[0m\u001b[0mreplace\u001b[0m\u001b[0;34m,\u001b[0m \u001b[0;34m**\u001b[0m\u001b[0m_shared_doc_kwargs\u001b[0m\u001b[0;34m)\u001b[0m\u001b[0;34m\u001b[0m\u001b[0;34m\u001b[0m\u001b[0m\n",
      "\u001b[0;32m/opt/anaconda3/lib/python3.8/site-packages/pandas/core/generic.py\u001b[0m in \u001b[0;36mpop\u001b[0;34m(self, item)\u001b[0m\n\u001b[1;32m    659\u001b[0m \u001b[0;34m\u001b[0m\u001b[0m\n\u001b[1;32m    660\u001b[0m     \u001b[0;32mdef\u001b[0m \u001b[0mpop\u001b[0m\u001b[0;34m(\u001b[0m\u001b[0mself\u001b[0m\u001b[0;34m,\u001b[0m \u001b[0mitem\u001b[0m\u001b[0;34m:\u001b[0m \u001b[0mLabel\u001b[0m\u001b[0;34m)\u001b[0m \u001b[0;34m->\u001b[0m \u001b[0mUnion\u001b[0m\u001b[0;34m[\u001b[0m\u001b[0;34m\"Series\"\u001b[0m\u001b[0;34m,\u001b[0m \u001b[0mAny\u001b[0m\u001b[0;34m]\u001b[0m\u001b[0;34m:\u001b[0m\u001b[0;34m\u001b[0m\u001b[0;34m\u001b[0m\u001b[0m\n\u001b[0;32m--> 661\u001b[0;31m         \u001b[0mresult\u001b[0m \u001b[0;34m=\u001b[0m \u001b[0mself\u001b[0m\u001b[0;34m[\u001b[0m\u001b[0mitem\u001b[0m\u001b[0;34m]\u001b[0m\u001b[0;34m\u001b[0m\u001b[0;34m\u001b[0m\u001b[0m\n\u001b[0m\u001b[1;32m    662\u001b[0m         \u001b[0;32mdel\u001b[0m \u001b[0mself\u001b[0m\u001b[0;34m[\u001b[0m\u001b[0mitem\u001b[0m\u001b[0;34m]\u001b[0m\u001b[0;34m\u001b[0m\u001b[0;34m\u001b[0m\u001b[0m\n\u001b[1;32m    663\u001b[0m         \u001b[0;32mif\u001b[0m \u001b[0mself\u001b[0m\u001b[0;34m.\u001b[0m\u001b[0mndim\u001b[0m \u001b[0;34m==\u001b[0m \u001b[0;36m2\u001b[0m\u001b[0;34m:\u001b[0m\u001b[0;34m\u001b[0m\u001b[0;34m\u001b[0m\u001b[0m\n",
      "\u001b[0;32m/opt/anaconda3/lib/python3.8/site-packages/pandas/core/frame.py\u001b[0m in \u001b[0;36m__getitem__\u001b[0;34m(self, key)\u001b[0m\n\u001b[1;32m   2900\u001b[0m             \u001b[0;32mif\u001b[0m \u001b[0mself\u001b[0m\u001b[0;34m.\u001b[0m\u001b[0mcolumns\u001b[0m\u001b[0;34m.\u001b[0m\u001b[0mnlevels\u001b[0m \u001b[0;34m>\u001b[0m \u001b[0;36m1\u001b[0m\u001b[0;34m:\u001b[0m\u001b[0;34m\u001b[0m\u001b[0;34m\u001b[0m\u001b[0m\n\u001b[1;32m   2901\u001b[0m                 \u001b[0;32mreturn\u001b[0m \u001b[0mself\u001b[0m\u001b[0;34m.\u001b[0m\u001b[0m_getitem_multilevel\u001b[0m\u001b[0;34m(\u001b[0m\u001b[0mkey\u001b[0m\u001b[0;34m)\u001b[0m\u001b[0;34m\u001b[0m\u001b[0;34m\u001b[0m\u001b[0m\n\u001b[0;32m-> 2902\u001b[0;31m             \u001b[0mindexer\u001b[0m \u001b[0;34m=\u001b[0m \u001b[0mself\u001b[0m\u001b[0;34m.\u001b[0m\u001b[0mcolumns\u001b[0m\u001b[0;34m.\u001b[0m\u001b[0mget_loc\u001b[0m\u001b[0;34m(\u001b[0m\u001b[0mkey\u001b[0m\u001b[0;34m)\u001b[0m\u001b[0;34m\u001b[0m\u001b[0;34m\u001b[0m\u001b[0m\n\u001b[0m\u001b[1;32m   2903\u001b[0m             \u001b[0;32mif\u001b[0m \u001b[0mis_integer\u001b[0m\u001b[0;34m(\u001b[0m\u001b[0mindexer\u001b[0m\u001b[0;34m)\u001b[0m\u001b[0;34m:\u001b[0m\u001b[0;34m\u001b[0m\u001b[0;34m\u001b[0m\u001b[0m\n\u001b[1;32m   2904\u001b[0m                 \u001b[0mindexer\u001b[0m \u001b[0;34m=\u001b[0m \u001b[0;34m[\u001b[0m\u001b[0mindexer\u001b[0m\u001b[0;34m]\u001b[0m\u001b[0;34m\u001b[0m\u001b[0;34m\u001b[0m\u001b[0m\n",
      "\u001b[0;32m/opt/anaconda3/lib/python3.8/site-packages/pandas/core/indexes/base.py\u001b[0m in \u001b[0;36mget_loc\u001b[0;34m(self, key, method, tolerance)\u001b[0m\n\u001b[1;32m   2895\u001b[0m                 \u001b[0;32mreturn\u001b[0m \u001b[0mself\u001b[0m\u001b[0;34m.\u001b[0m\u001b[0m_engine\u001b[0m\u001b[0;34m.\u001b[0m\u001b[0mget_loc\u001b[0m\u001b[0;34m(\u001b[0m\u001b[0mcasted_key\u001b[0m\u001b[0;34m)\u001b[0m\u001b[0;34m\u001b[0m\u001b[0;34m\u001b[0m\u001b[0m\n\u001b[1;32m   2896\u001b[0m             \u001b[0;32mexcept\u001b[0m \u001b[0mKeyError\u001b[0m \u001b[0;32mas\u001b[0m \u001b[0merr\u001b[0m\u001b[0;34m:\u001b[0m\u001b[0;34m\u001b[0m\u001b[0;34m\u001b[0m\u001b[0m\n\u001b[0;32m-> 2897\u001b[0;31m                 \u001b[0;32mraise\u001b[0m \u001b[0mKeyError\u001b[0m\u001b[0;34m(\u001b[0m\u001b[0mkey\u001b[0m\u001b[0;34m)\u001b[0m \u001b[0;32mfrom\u001b[0m \u001b[0merr\u001b[0m\u001b[0;34m\u001b[0m\u001b[0;34m\u001b[0m\u001b[0m\n\u001b[0m\u001b[1;32m   2898\u001b[0m \u001b[0;34m\u001b[0m\u001b[0m\n\u001b[1;32m   2899\u001b[0m         \u001b[0;32mif\u001b[0m \u001b[0mtolerance\u001b[0m \u001b[0;32mis\u001b[0m \u001b[0;32mnot\u001b[0m \u001b[0;32mNone\u001b[0m\u001b[0;34m:\u001b[0m\u001b[0;34m\u001b[0m\u001b[0;34m\u001b[0m\u001b[0m\n",
      "\u001b[0;31mKeyError\u001b[0m: 'GENDER'"
     ]
    }
   ],
   "source": [
    "data3 = pd.merge(data2, data, on =['ACCT_NUM'])\n",
    "column = data3.pop('GENDER')\n",
    "\n",
    "data3.insert(2, 'GENDER', column)\n",
    "\n",
    "print(data3)"
   ]
  },
  {
   "cell_type": "code",
   "execution_count": 79,
   "metadata": {
    "scrolled": false
   },
   "outputs": [
    {
     "name": "stdout",
     "output_type": "stream",
     "text": [
      "     MONTH  ACCT_NUM  PRODUCT  REVENUE\n",
      "0  January   9994523      VEG       50\n",
      "1  January   9994523  HOT DOG       40\n",
      "2  January   9993644  HOT DOG       35\n",
      "3  January   9993644    FRIES        2\n",
      "4  January   9996984      VEG       60\n",
      "5  January   9996427      NaN       15\n"
     ]
    }
   ],
   "source": [
    "data = pd.read_csv('REVENUE01.csv')\n",
    "data2 = pd.read_csv('REVENUE02.csv')\n",
    "print(data)"
   ]
  },
  {
   "cell_type": "code",
   "execution_count": 80,
   "metadata": {},
   "outputs": [
    {
     "name": "stdout",
     "output_type": "stream",
     "text": [
      "      MONTH  ACCT_NUM  PRODUCT  REVENUE\n",
      "0   January   9994523      VEG       50\n",
      "1   January   9994523  HOT DOG       40\n",
      "2   January   9993644  HOT DOG       35\n",
      "3   January   9993644    FRIES        2\n",
      "4   January   9996984      VEG       60\n",
      "5   January   9996427      NaN       15\n",
      "0  February   9994523      VEG       50\n",
      "1  February   9994523  HOT DOG       40\n",
      "2  February   9993644  HOT DOG       35\n",
      "3  February   9993644    FRIES        2\n",
      "4  February   9996984      VEG       60\n",
      "5  February   9996427      NaN       15\n"
     ]
    }
   ],
   "source": [
    "dataframes = [data, data2]\n",
    "combine = pd.concat(dataframes)\n",
    "print(combine)"
   ]
  },
  {
   "cell_type": "code",
   "execution_count": 82,
   "metadata": {},
   "outputs": [
    {
     "data": {
      "text/html": [
       "<div>\n",
       "<style scoped>\n",
       "    .dataframe tbody tr th:only-of-type {\n",
       "        vertical-align: middle;\n",
       "    }\n",
       "\n",
       "    .dataframe tbody tr th {\n",
       "        vertical-align: top;\n",
       "    }\n",
       "\n",
       "    .dataframe thead th {\n",
       "        text-align: right;\n",
       "    }\n",
       "</style>\n",
       "<table border=\"1\" class=\"dataframe\">\n",
       "  <thead>\n",
       "    <tr style=\"text-align: right;\">\n",
       "      <th></th>\n",
       "      <th>REVENUE</th>\n",
       "    </tr>\n",
       "    <tr>\n",
       "      <th>ACCT_NUM</th>\n",
       "      <th></th>\n",
       "    </tr>\n",
       "  </thead>\n",
       "  <tbody>\n",
       "    <tr>\n",
       "      <th>9993644</th>\n",
       "      <td>74</td>\n",
       "    </tr>\n",
       "    <tr>\n",
       "      <th>9994523</th>\n",
       "      <td>180</td>\n",
       "    </tr>\n",
       "    <tr>\n",
       "      <th>9996427</th>\n",
       "      <td>30</td>\n",
       "    </tr>\n",
       "    <tr>\n",
       "      <th>9996984</th>\n",
       "      <td>120</td>\n",
       "    </tr>\n",
       "  </tbody>\n",
       "</table>\n",
       "</div>"
      ],
      "text/plain": [
       "          REVENUE\n",
       "ACCT_NUM         \n",
       "9993644        74\n",
       "9994523       180\n",
       "9996427        30\n",
       "9996984       120"
      ]
     },
     "execution_count": 82,
     "metadata": {},
     "output_type": "execute_result"
    }
   ],
   "source": [
    "combine.groupby(['ACCT_NUM']).sum()"
   ]
  },
  {
   "cell_type": "code",
   "execution_count": 118,
   "metadata": {},
   "outputs": [
    {
     "name": "stdout",
     "output_type": "stream",
     "text": [
      "       MONTH  ACCT_NUM    LOCATION  START_TIME  END_TIME\n",
      "0    January   9994523        MALL           3         5\n",
      "1    January   9994523        MALL           2         3\n",
      "2    January   9993644  FOOD TRUCK           3         9\n",
      "3    January   9993644  RESTAURANT          12        13\n",
      "4    January   9996984        CAFE           3         4\n",
      "5    January   9996427        MALL           8         9\n",
      "6   February   9994523        MALL          11        17\n",
      "7   February   9994523  FOOD TRUCK           9        12\n",
      "8   February   9993644  RESTAURANT           3         9\n",
      "9   February   9993644  RESTAURANT           7         9\n",
      "10  February   9996984        CAFE           7         8\n",
      "11  February   9996427        MALL          10        13\n"
     ]
    }
   ],
   "source": [
    "data = pd.read_csv('WIFI-LOGIN.csv')\n",
    "print(data)"
   ]
  },
  {
   "cell_type": "code",
   "execution_count": 161,
   "metadata": {},
   "outputs": [
    {
     "name": "stdout",
     "output_type": "stream",
     "text": [
      "      MONTH    LOCATION  UNIQUE_VIEWERS\n",
      "0   January        MALL               2\n",
      "1   January  FOOD TRUCK               1\n",
      "2   January  RESTAURANT               1\n",
      "3   January        CAFE               1\n",
      "4  February        MALL               2\n",
      "5  February  FOOD TRUCK               1\n",
      "6  February  RESTAURANT               1\n",
      "7  February        CAFE               1\n"
     ]
    }
   ],
   "source": [
    "unique = data.groupby(['MONTH', 'LOCATION']).nunique()\n",
    "unique = unique.reset_index()\n",
    "drop = data.drop_duplicates(['LOCATION', 'MONTH'])\n",
    "drop = drop.drop(['START_TIME','END_TIME'], axis=1)\n",
    "unique = unique.drop(['START_TIME','END_TIME'], axis=1)\n",
    "unique = unique.rename(columns={'ACCT_NUM': 'UNIQUE_VIEWERS'})\n",
    "final = pd.merge(drop, unique, on = ['MONTH', 'LOCATION'])\n",
    "final = final.drop(['ACCT_NUM'], axis =1)\n",
    "print(final)"
   ]
  },
  {
   "cell_type": "code",
   "execution_count": 162,
   "metadata": {},
   "outputs": [
    {
     "name": "stdout",
     "output_type": "stream",
     "text": [
      "   ACCT_NUM PRODUCT  Date_local  CURRENTDAY\n",
      "0         C  HOTDOG  2015-04-22        2.37\n",
      "1         C  HOTDOG  2015-04-23        1.52\n",
      "2         C  HOTDOG  2015-04-24        0.28\n",
      "3         C  HOTDOG  2015-04-25        0.62\n",
      "4         C  HOTDOG  2015-04-26        7.73\n",
      "5         C  HOTDOG  2015-04-27        0.25\n",
      "6         C  HOTDOG  2015-04-28        1.38\n",
      "7         C  HOTDOG  2015-04-29        1.72\n",
      "8         C  HOTDOG  2015-04-30        0.10\n",
      "9         C  HOTDOG  2015-05-01        0.30\n",
      "10        C  HOTDOG  2015-05-02        0.63\n"
     ]
    }
   ],
   "source": [
    "data = pd.read_csv('REVENUE001.csv')\n",
    "print(data)"
   ]
  },
  {
   "cell_type": "code",
   "execution_count": 167,
   "metadata": {},
   "outputs": [
    {
     "name": "stdout",
     "output_type": "stream",
     "text": [
      "   ACCT_NUM PRODUCT  Date_local  CURRENTDAY  PREVIOUSDAY  NEXTDAY\n",
      "0         C  HOTDOG  2015-04-22        2.37          NaN     1.52\n",
      "1         C  HOTDOG  2015-04-23        1.52         2.37     0.28\n",
      "2         C  HOTDOG  2015-04-24        0.28         1.52     0.62\n",
      "3         C  HOTDOG  2015-04-25        0.62         0.28     7.73\n",
      "4         C  HOTDOG  2015-04-26        7.73         0.62     0.25\n",
      "5         C  HOTDOG  2015-04-27        0.25         7.73     1.38\n",
      "6         C  HOTDOG  2015-04-28        1.38         0.25     1.72\n",
      "7         C  HOTDOG  2015-04-29        1.72         1.38     0.10\n",
      "8         C  HOTDOG  2015-04-30        0.10         1.72     0.30\n",
      "9         C  HOTDOG  2015-05-01        0.30         0.10     0.63\n",
      "10        C  HOTDOG  2015-05-02        0.63         0.30      NaN\n"
     ]
    }
   ],
   "source": [
    "previous = data['CURRENTDAY'].shift(1)\n",
    "nextday = data['CURRENTDAY'].shift(-1)\n",
    "data['PREVIOUSDAY']= previous\n",
    "data['NEXTDAY']= nextday\n",
    "print(data)"
   ]
  },
  {
   "cell_type": "code",
   "execution_count": 278,
   "metadata": {},
   "outputs": [
    {
     "name": "stdout",
     "output_type": "stream",
     "text": [
      "   ACCT_NUM        DATE  REVENUE\n",
      "0         A  2015-04-22    23.70\n",
      "1         B  2015-04-23    15.20\n",
      "2         C  2015-04-24     2.80\n",
      "3         D  2015-04-25     6.20\n",
      "4         E  2015-04-26    77.30\n",
      "5         F  2015-04-27     2.50\n",
      "6         G  2015-04-28    13.80\n",
      "7         A  2015-05-22    23.70\n",
      "8         B  2015-05-23    15.20\n",
      "9         C  2015-05-24    40.50\n",
      "10        D  2015-05-25     6.20\n",
      "11        E  2015-05-26     7.75\n",
      "12        F  2015-05-27     2.50\n",
      "13        G  2015-05-28    13.80\n"
     ]
    }
   ],
   "source": [
    "data = pd.read_csv('REVENUE002.csv')\n",
    "\n",
    "print(data)"
   ]
  },
  {
   "cell_type": "code",
   "execution_count": 281,
   "metadata": {},
   "outputs": [
    {
     "name": "stdout",
     "output_type": "stream",
     "text": [
      "  ACCT_NUM   MONTH_END  REVENUE  Rank\n",
      "4        E  2015-04-30     77.3   1.0\n",
      "0        A  2015-04-30     23.7   2.0\n",
      "1        B  2015-04-30     15.2   3.0\n",
      "9        C  2015-05-31     40.5   1.0\n",
      "7        A  2015-05-31     23.7   2.0\n",
      "8        B  2015-05-31     15.2   3.0\n"
     ]
    }
   ],
   "source": [
    "data.insert(1, 'MONTH_END', value='')\n",
    "conditions=[\n",
    "    (data['DATE']<= '2015-04-30'),\n",
    "    (data['DATE']>='2015-04-30')   \n",
    "]\n",
    "value = ['2015-04-30', '2015-05-31']\n",
    "data['MONTH_END'] = np.select(conditions, value)\n",
    "group = data.groupby(['MONTH_END']).rank(ascending = False)\n",
    "data['Rank'] = group\n",
    "data = data.sort_values(by=['MONTH_END', 'Rank'])\n",
    "data = data[data['Rank']<=3]\n",
    "final = data[['ACCT_NUM','MONTH_END','REVENUE','Rank']]\n",
    "print(final)"
   ]
  },
  {
   "cell_type": "code",
   "execution_count": 294,
   "metadata": {},
   "outputs": [
    {
     "name": "stdout",
     "output_type": "stream",
     "text": [
      "   ACCT_NUM   CALL_DATE\n",
      "0         A  2015-04-12\n",
      "1         B  2015-04-13\n",
      "2         C  2015-04-14\n",
      "3         D  2015-04-15\n",
      "4         E  2015-04-16\n",
      "5         F  2015-04-17\n",
      "6         A  2015-04-27\n",
      "7         B  2015-04-28\n",
      "8         C  2015-04-29\n",
      "9         D  2015-04-30\n",
      "10        E  2015-04-26\n",
      "11        F  2015-04-27\n",
      "  ACCT_NUM PURCHASE_DATE\n",
      "0        A    2015-03-23\n",
      "1        B    2015-03-24\n"
     ]
    }
   ],
   "source": [
    "data = pd.read_csv('CALLS_APR.csv')\n",
    "data2 = pd.read_csv('PURCHASES_MAR.csv')\n",
    "data2 = data2.drop_duplicates(['PURCHASE_DATE'])\n",
    "print(data)\n",
    "print(data2)\n"
   ]
  },
  {
   "cell_type": "code",
   "execution_count": 310,
   "metadata": {},
   "outputs": [
    {
     "name": "stdout",
     "output_type": "stream",
     "text": [
      "   ACCT_NUM   CALL_DATE PRIOR_MONTH_PURCHASE\n",
      "0         A  2015-04-12                    Y\n",
      "1         B  2015-04-13                    Y\n",
      "2         C  2015-04-14                    N\n",
      "3         D  2015-04-15                    N\n",
      "4         E  2015-04-16                    N\n",
      "5         F  2015-04-17                    N\n",
      "6         A  2015-04-27                    Y\n",
      "7         B  2015-04-28                    Y\n",
      "8         C  2015-04-29                    N\n",
      "9         D  2015-04-30                    N\n",
      "10        E  2015-04-26                    N\n",
      "11        F  2015-04-27                    N\n"
     ]
    }
   ],
   "source": [
    "data3 = pd.merge(data, data2, on =['ACCT_NUM'], how='left')\n",
    "conditions = [\n",
    "    \n",
    "    (data3['CALL_DATE'] > data3['PURCHASE_DATE']),\n",
    "    (data3['CALL_DATE'] < data3['PURCHASE_DATE'])\n",
    "]\n",
    "value = ['Y','N']\n",
    "data3['PRIOR_MONTH_PURCHASE'] = np.select(conditions, value)\n",
    "data3['PRIOR_MONTH_PURCHASE'] = data3['PRIOR_MONTH_PURCHASE'].replace(['0'],'N')\n",
    "final = data3[['ACCT_NUM','CALL_DATE','PRIOR_MONTH_PURCHASE']]\n",
    "print(final)\n"
   ]
  },
  {
   "cell_type": "code",
   "execution_count": null,
   "metadata": {},
   "outputs": [],
   "source": []
  }
 ],
 "metadata": {
  "kernelspec": {
   "display_name": "Python 3",
   "language": "python",
   "name": "python3"
  },
  "language_info": {
   "codemirror_mode": {
    "name": "ipython",
    "version": 3
   },
   "file_extension": ".py",
   "mimetype": "text/x-python",
   "name": "python",
   "nbconvert_exporter": "python",
   "pygments_lexer": "ipython3",
   "version": "3.8.5"
  }
 },
 "nbformat": 4,
 "nbformat_minor": 4
}
